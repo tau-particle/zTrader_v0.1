{
 "cells": [
  {
   "cell_type": "markdown",
   "id": "e1ef49f0",
   "metadata": {},
   "source": [
    "pandasframe浏览\n",
    "https://pbpython.com/dataframe-gui-overview.html"
   ]
  },
  {
   "cell_type": "code",
   "execution_count": null,
   "id": "35f99319",
   "metadata": {},
   "outputs": [],
   "source": [
    "TOKEN='0b4d8d6fd5d5e5058e93a259a410f94f9f8b7279ab9247c9b81ac404'\n",
    "import pandasgui"
   ]
  },
  {
   "cell_type": "code",
   "execution_count": null,
   "id": "7c8e0eed",
   "metadata": {},
   "outputs": [],
   "source": [
    "import tushare as ts\n",
    "\n",
    "ts.set_token(TOKEN)\n",
    "pro = ts.pro_api(TOKEN)"
   ]
  },
  {
   "cell_type": "code",
   "execution_count": null,
   "id": "baac71ee",
   "metadata": {},
   "outputs": [],
   "source": [
    "import download_from_tushare"
   ]
  },
  {
   "cell_type": "code",
   "execution_count": null,
   "id": "b2420e25",
   "metadata": {},
   "outputs": [],
   "source": [
    "data = pro.stock_basic(exchange='', list_status='L', fields='ts_code,list_date')\n",
    "data\n",
    "date = data[data['ts_code']=='000001.SZ']['list_date'].values[0]\n",
    "from datetime import date, timedelta\n",
    "\n",
    "# Define the start date\n",
    "start_date = date(2023, 2, 20)\n",
    "\n",
    "# Calculate the end date after 100 days\n",
    "end_date = start_date + timedelta(days=100)\n",
    "\n",
    "# Print the result\n",
    "print(end_date)\n"
   ]
  },
  {
   "cell_type": "code",
   "execution_count": null,
   "id": "eb7ebd9f",
   "metadata": {},
   "outputs": [],
   "source": [
    "df = pro.trade_cal()\n",
    "pandasgui.show(df)"
   ]
  },
  {
   "cell_type": "code",
   "execution_count": null,
   "id": "7249a2c1",
   "metadata": {},
   "outputs": [],
   "source": [
    "from datetime import date, timedelta\n",
    "\n",
    "# Define the start date\n",
    "start_date = date(2023, 2, 20)\n",
    "\n",
    "# Calculate the end date after 100 days\n",
    "end_date = start_date + timedelta(days=2)\n",
    "\n",
    "# Print the result\n",
    "print(end_date)\n"
   ]
  },
  {
   "cell_type": "code",
   "execution_count": null,
   "id": "fc1feb58",
   "metadata": {},
   "outputs": [],
   "source": [
    "from datetime import date\n",
    "\n",
    "# Define the two dates\n",
    "start_date = date(2023, 2, 20)\n",
    "end_date = date(2023, 5, 31)\n",
    "\n",
    "# Calculate the number of days between the dates\n",
    "delta = end_date - start_date\n",
    "num_days = delta.days\n",
    "\n",
    "# Print the result\n",
    "print(num_days)"
   ]
  },
  {
   "cell_type": "code",
   "execution_count": null,
   "id": "c3082f9a",
   "metadata": {},
   "outputs": [],
   "source": [
    "from datetime import date\n",
    "\n",
    "# Get the current date\n",
    "today = date.today()\n",
    "\n",
    "# Print the result\n",
    "print(today)"
   ]
  },
  {
   "cell_type": "code",
   "execution_count": null,
   "id": "5f607415",
   "metadata": {},
   "outputs": [],
   "source": [
    "position_sid = ['601238.SH', '002892.SZ', '002635.SZ', '600938.SH', '002286.SZ', '002564.SZ']\n"
   ]
  },
  {
   "cell_type": "code",
   "execution_count": null,
   "id": "27d37b26",
   "metadata": {},
   "outputs": [],
   "source": [
    "ts_code = position_sid[5]\n",
    "\n",
    "\n",
    "\n",
    "df = pro.daily(ts_code=ts_code, end_date='20230219')\n",
    "df_bar = ts.pro_bar(ts_code=ts_code, adj=None, start_date='20230101', end_date='20230219', freq='D')\n",
    "\n"
   ]
  },
  {
   "cell_type": "code",
   "execution_count": null,
   "id": "1ce3f591",
   "metadata": {},
   "outputs": [],
   "source": [
    "pandasgui.show(df_bar)"
   ]
  },
  {
   "cell_type": "code",
   "execution_count": null,
   "id": "b7312f25",
   "metadata": {},
   "outputs": [],
   "source": [
    "df_bar"
   ]
  },
  {
   "cell_type": "code",
   "execution_count": null,
   "id": "c349a1d4",
   "metadata": {},
   "outputs": [],
   "source": [
    "df_bar2 = ts.pro_bar(ts_code=ts_code, adj='qfq', end_date='20220219', freq='D')\n"
   ]
  },
  {
   "cell_type": "code",
   "execution_count": null,
   "id": "ba60d1a1",
   "metadata": {},
   "outputs": [],
   "source": [
    "df_bar2"
   ]
  },
  {
   "attachments": {
    "image.png": {
     "image/png": "[encoded data removed]"
    }
   },
   "cell_type": "markdown",
   "id": "e85cbc3e",
   "metadata": {},
   "source": [
    "![image.png](attachment:image.png)"
   ]
  },
  {
   "cell_type": "code",
   "execution_count": null,
   "id": "3b8200c9",
   "metadata": {},
   "outputs": [],
   "source": [
    "listing_date = ['2022204', '20221011', '20220822', '20220926', '20220504', '20220418']"
   ]
  },
  {
   "cell_type": "code",
   "execution_count": null,
   "id": "f9064f9d",
   "metadata": {},
   "outputs": [],
   "source": [
    "def count_calls(func):\n",
    "    def wrapper(*args, **kwargs):\n",
    "        wrapper.num_calls += 1\n",
    "        return func(*args, **kwargs)\n",
    "    wrapper.num_calls = 0\n",
    "    return wrapper\n",
    "\n",
    "\n",
    "import os\n",
    "\n",
    "DIR_NAME = {\n",
    "    \"5min\"  :   \"period_5min\",\n",
    "    \"15min\" :   \"period_15min\",\n",
    "    \"30min\" :   \"period_30min\",\n",
    "    \"60min\" :   \"period_60min\",\n",
    "    \"D\"   :   \"period_day\",\n",
    "    \"W\"  :   \"period_week\",\n",
    "    \"M\" :   \"period_month\"\n",
    "}\n",
    "\n",
    "@count_calls\n",
    "def pro_bar(ts_code, adj, start_date, end_date, freq):\n",
    "    return ts.pro_bar(ts_code=ts_code, adj=adj, start_date = start_date, end_date=end_date, freq=freq)\n",
    "\n",
    "def sv_to_feather(codes, sdates, end_date, freq):\n",
    "    stock = zip(codes, sdates)\n",
    "\n",
    "    for tscode, sdate in stock:\n",
    "\n",
    "        df_bar = pro_bar(ts_code=ts_code, adj=None, start_date = sdate, end_date='20230220', freq=freq)\n",
    "        df_bar = df_bar.rename(columns={'ts_code':'code', 'trade_date':'date'})\n",
    "        try:\n",
    "            df_bar = df_bar.drop(columns=['pre_close', 'change', 'pct_chg'])\n",
    "        except:\n",
    "            pass\n",
    "        sv_path = os.path.join('B:\\stock_data\\price_volume\\{}'.format( DIR_NAME[freq] ), tscode.replace('.', '_') + '.feather' )\n",
    "#         print(sv_path, df_bar.shape)\n",
    "        df_bar.to_feather(sv_path)\n",
    "    \n",
    "    \n",
    "for period in ['15min', '30min', '60min', 'D', 'W', 'M']:\n",
    "\n",
    "    sv_to_feather(position_sid, listing_date, '20230220', period)\n",
    "    \n",
    "print(pro_bar.num_calls)\n",
    "# sv_to_feather(position_sid, listing_date, '20230220', '15min') \n",
    "# sv_to_feather(position_sid, listing_date, '20230220', '30min')\n",
    "# sv_to_feather(position_sid, listing_date, '20230220', '60min')\n",
    "# sv_to_feather(position_sid, listing_date, '20230220', 'D')\n",
    "# sv_to_feather(position_sid, listing_date, '20230220', 'W')\n",
    "# sv_to_feather(position_sid, listing_date, '20230220', 'M')\n",
    "\n",
    "\n",
    "# stock = zip(position_sid, listing_date)\n",
    "# for period in ['15min', '30min', '60min', 'D', 'W', 'M']:\n",
    "#     print(period)\n",
    "#     for tscode, sdate in stock:\n",
    "#         df_bar = ts.pro_bar(ts_code=ts_code, adj=None, start_date = sdate, end_date='20230220', freq='15min')\n",
    "#         df_bar = df_bar.rename(columns={'ts_code':'code', 'trade_date':'date'})\n",
    "#         print(DIR_NAME[period] )\n",
    "#         try:\n",
    "#             df_bar = df_bar.drop(columns=['pre_close', 'change', 'pct_chg'])\n",
    "#         except:\n",
    "#             pass\n",
    "#         sv_path = os.path.join('B:\\stock_data\\price_volume\\{}'.format( DIR_NAME[period] ), tscode.replace('.', '_') + '.feather' )\n",
    "#         print(sv_path, df_bar.shape)\n",
    "#         df_bar.to_feather(sv_path)\n"
   ]
  },
  {
   "cell_type": "code",
   "execution_count": null,
   "id": "f92f76b6",
   "metadata": {},
   "outputs": [],
   "source": [
    "import pandas as pd\n",
    "df = pd.read_feather(r\"B:\\stock_data\\price_volume\\period_day\\002564_SZ.feather\")\n",
    "pandasgui.show(df)"
   ]
  },
  {
   "cell_type": "code",
   "execution_count": null,
   "id": "6fd04fb4",
   "metadata": {},
   "outputs": [],
   "source": [
    "import random\n",
    "import numpy as np\n",
    "\n",
    "arr = np.random.rand(300000, 5)\n",
    "\n",
    "df = pd.DataFrame(arr, columns=['col1', 'col2', 'col3', 'col4', 'col5'])\n",
    "\n",
    "total_memory_usage = df.memory_usage(deep=True).sum() / 1024 / 1024\n",
    "\n",
    "print(total_memory_usage)\n",
    "\n",
    "df.to_feather('test_load.feather')\n",
    "\n",
    "#按这个估算，5000只股票，加载3年的历史，16G内存估计够用\n",
    "#feather 文件，所有股票，按照5000只计算， 每只30年历史，5分钟数据大概占用55G，总共估计100G硬盘空间\n"
   ]
  },
  {
   "cell_type": "code",
   "execution_count": null,
   "id": "48441ad4",
   "metadata": {},
   "outputs": [],
   "source": [
    "import time\n",
    "\n",
    "s = time.time()\n",
    "pd.read_feather('test_load.feather')\n",
    "e = time.time()\n",
    "\n",
    "t_ = 5000*(e-s)\n",
    "print(t_)\n",
    "\n",
    "#按照这个估算，每日更新数据估计需要10分钟，开一个进程后台进行"
   ]
  },
  {
   "attachments": {
    "image.png": {
     "image/png": "[encoded data removed]"
    }
   },
   "cell_type": "markdown",
   "id": "c744d9de",
   "metadata": {},
   "source": [
    "![image.png](attachment:image.png)"
   ]
  },
  {
   "cell_type": "code",
   "execution_count": null,
   "id": "a0d086a1",
   "metadata": {},
   "outputs": [],
   "source": [
    "a = 14*250*4*4*3\n",
    "a/8000"
   ]
  },
  {
   "cell_type": "code",
   "execution_count": null,
   "id": "4e68eb55",
   "metadata": {},
   "outputs": [],
   "source": [
    "import time\n",
    "\n",
    "class TokenBucket:\n",
    "    def __init__(self, capacity, fill_rate):\n",
    "        self.capacity = capacity\n",
    "        self.fill_rate = fill_rate\n",
    "        self.tokens = capacity\n",
    "        self.timestamp = time.monotonic()\n",
    "    \n",
    "    def consume(self, tokens):\n",
    "        if tokens <= self.tokens:\n",
    "            self.tokens -= tokens\n",
    "        else:\n",
    "            self.tokens = 0\n",
    "        \n",
    "        self.timestamp = time.monotonic()\n",
    "    \n",
    "    def fill(self):\n",
    "        now = time.monotonic()\n",
    "        delta = now - self.timestamp\n",
    "        new_tokens = delta * self.fill_rate\n",
    "        self.tokens = min(self.tokens + new_tokens, self.capacity)\n",
    "        self.timestamp = now\n"
   ]
  },
  {
   "cell_type": "code",
   "execution_count": null,
   "id": "fd4ff17e",
   "metadata": {},
   "outputs": [],
   "source": [
    "def rate_limited(max_calls, period):\n",
    "    def decorator(func):\n",
    "        bucket = TokenBucket(max_calls, max_calls / period)\n",
    "        \n",
    "        def wrapper(*args, **kwargs):\n",
    "            bucket.fill()\n",
    "            if bucket.tokens < 1:\n",
    "                time_to_wait = (1 - bucket.tokens) / bucket.fill_rate\n",
    "                time.sleep(time_to_wait)\n",
    "                bucket.fill()\n",
    "            bucket.consume(1)\n",
    "            return func(*args, **kwargs)\n",
    "        \n",
    "        return wrapper\n",
    "    \n",
    "    return decorator"
   ]
  },
  {
   "cell_type": "code",
   "execution_count": null,
   "id": "ff93080c",
   "metadata": {},
   "outputs": [],
   "source": [
    "@count_calls\n",
    "def my_function():\n",
    "    print('working')\n",
    "    time.sleep(0.5)\n",
    "    \n",
    "s = time.time()\n",
    "    \n",
    "for i in range(10000):\n",
    "    print(my_function.num_calls)\n",
    "    \n",
    "    my_function()\n",
    "    e = time.time()\n",
    "    \n",
    "    if my_function.num_calls>=10 and e - s<30:\n",
    "        print(e-s)\n",
    "        my_function.num_calls = 0\n",
    "        time.sleep( 60 - (e-s) )\n",
    "        s = time.time()\n",
    "    "
   ]
  },
  {
   "cell_type": "code",
   "execution_count": 29,
   "id": "5b44173b",
   "metadata": {},
   "outputs": [
    {
     "data": {
      "text/plain": [
       "0"
      ]
     },
     "execution_count": 29,
     "metadata": {},
     "output_type": "execute_result"
    }
   ],
   "source": [
    "df = pd.DataFrame({'fruit': ['apple', 'banana', 'orange'], 'color': ['red', 'yellow', 'orange'], 'price': [0.5, 0.25, 0.4]})\n",
    "\n",
    "# Create a dictionary to map the 'fruit' column to row indices\n",
    "fruit_to_index = dict(zip(df['fruit'], df.index))\n",
    "\n",
    "fruit_to_index['apple']"
   ]
  },
  {
   "cell_type": "code",
   "execution_count": 33,
   "id": "09e49332",
   "metadata": {},
   "outputs": [
    {
     "name": "stdout",
     "output_type": "stream",
     "text": [
      "Index(['apple', 'banana', 'orange'], dtype='object', name='fruit')\n"
     ]
    }
   ],
   "source": [
    "import pandas as pd\n",
    "\n",
    "# Create a sample DataFrame\n",
    "df = pd.DataFrame({'fruit': ['apple', 'banana', 'orange'], 'color': ['red', 'yellow', 'orange'], 'price': [0.5, 0.25, 0.4]})\n",
    "\n",
    "# Set 'fruit' column as the index\n",
    "df.set_index('fruit', inplace=True)\n",
    "\n",
    "print(df.index[0])"
   ]
  },
  {
   "cell_type": "code",
   "execution_count": 32,
   "id": "a2da2ed8",
   "metadata": {},
   "outputs": [
    {
     "ename": "KeyError",
     "evalue": "\"None of ['index_name'] are in the columns\"",
     "output_type": "error",
     "traceback": [
      "\u001b[1;31m---------------------------------------------------------------------------\u001b[0m",
      "\u001b[1;31mKeyError\u001b[0m                                  Traceback (most recent call last)",
      "Cell \u001b[1;32mIn[32], line 8\u001b[0m\n\u001b[0;32m      5\u001b[0m df\u001b[38;5;241m.\u001b[39mindex\u001b[38;5;241m.\u001b[39mname \u001b[38;5;241m=\u001b[39m \u001b[38;5;124m'\u001b[39m\u001b[38;5;124mindex_name\u001b[39m\u001b[38;5;124m'\u001b[39m\n\u001b[0;32m      7\u001b[0m \u001b[38;5;66;03m# Set the row name as the index\u001b[39;00m\n\u001b[1;32m----> 8\u001b[0m \u001b[43mdf\u001b[49m\u001b[38;5;241;43m.\u001b[39;49m\u001b[43mset_index\u001b[49m\u001b[43m(\u001b[49m\u001b[43mdf\u001b[49m\u001b[38;5;241;43m.\u001b[39;49m\u001b[43mindex\u001b[49m\u001b[38;5;241;43m.\u001b[39;49m\u001b[43mname\u001b[49m\u001b[43m,\u001b[49m\u001b[43m \u001b[49m\u001b[43minplace\u001b[49m\u001b[38;5;241;43m=\u001b[39;49m\u001b[38;5;28;43;01mTrue\u001b[39;49;00m\u001b[43m)\u001b[49m\n\u001b[0;32m     10\u001b[0m \u001b[38;5;28mprint\u001b[39m(df)\n",
      "File \u001b[1;32m~\\AppData\\Local\\Packages\\PythonSoftwareFoundation.Python.3.10_qbz5n2kfra8p0\\LocalCache\\local-packages\\Python310\\site-packages\\pandas\\util\\_decorators.py:331\u001b[0m, in \u001b[0;36mdeprecate_nonkeyword_arguments.<locals>.decorate.<locals>.wrapper\u001b[1;34m(*args, **kwargs)\u001b[0m\n\u001b[0;32m    325\u001b[0m \u001b[38;5;28;01mif\u001b[39;00m \u001b[38;5;28mlen\u001b[39m(args) \u001b[38;5;241m>\u001b[39m num_allow_args:\n\u001b[0;32m    326\u001b[0m     warnings\u001b[38;5;241m.\u001b[39mwarn(\n\u001b[0;32m    327\u001b[0m         msg\u001b[38;5;241m.\u001b[39mformat(arguments\u001b[38;5;241m=\u001b[39m_format_argument_list(allow_args)),\n\u001b[0;32m    328\u001b[0m         \u001b[38;5;167;01mFutureWarning\u001b[39;00m,\n\u001b[0;32m    329\u001b[0m         stacklevel\u001b[38;5;241m=\u001b[39mfind_stack_level(),\n\u001b[0;32m    330\u001b[0m     )\n\u001b[1;32m--> 331\u001b[0m \u001b[38;5;28;01mreturn\u001b[39;00m func(\u001b[38;5;241m*\u001b[39margs, \u001b[38;5;241m*\u001b[39m\u001b[38;5;241m*\u001b[39mkwargs)\n",
      "File \u001b[1;32m~\\AppData\\Local\\Packages\\PythonSoftwareFoundation.Python.3.10_qbz5n2kfra8p0\\LocalCache\\local-packages\\Python310\\site-packages\\pandas\\core\\frame.py:6012\u001b[0m, in \u001b[0;36mDataFrame.set_index\u001b[1;34m(self, keys, drop, append, inplace, verify_integrity)\u001b[0m\n\u001b[0;32m   6009\u001b[0m                 missing\u001b[38;5;241m.\u001b[39mappend(col)\n\u001b[0;32m   6011\u001b[0m \u001b[38;5;28;01mif\u001b[39;00m missing:\n\u001b[1;32m-> 6012\u001b[0m     \u001b[38;5;28;01mraise\u001b[39;00m \u001b[38;5;167;01mKeyError\u001b[39;00m(\u001b[38;5;124mf\u001b[39m\u001b[38;5;124m\"\u001b[39m\u001b[38;5;124mNone of \u001b[39m\u001b[38;5;132;01m{\u001b[39;00mmissing\u001b[38;5;132;01m}\u001b[39;00m\u001b[38;5;124m are in the columns\u001b[39m\u001b[38;5;124m\"\u001b[39m)\n\u001b[0;32m   6014\u001b[0m \u001b[38;5;28;01mif\u001b[39;00m inplace:\n\u001b[0;32m   6015\u001b[0m     frame \u001b[38;5;241m=\u001b[39m \u001b[38;5;28mself\u001b[39m\n",
      "\u001b[1;31mKeyError\u001b[0m: \"None of ['index_name'] are in the columns\""
     ]
    }
   ],
   "source": [
    "\n"
   ]
  },
  {
   "cell_type": "code",
   "execution_count": null,
   "id": "cd84e023",
   "metadata": {},
   "outputs": [],
   "source": []
  }
 ],
 "metadata": {
  "kernelspec": {
   "display_name": "Python 3 (ipykernel)",
   "language": "python",
   "name": "python3"
  },
  "language_info": {
   "codemirror_mode": {
    "name": "ipython",
    "version": 3
   },
   "file_extension": ".py",
   "mimetype": "text/x-python",
   "name": "python",
   "nbconvert_exporter": "python",
   "pygments_lexer": "ipython3",
   "version": "3.10.10"
  }
 },
 "nbformat": 4,
 "nbformat_minor": 5
}
