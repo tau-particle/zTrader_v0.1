{
 "cells": [
  {
   "cell_type": "code",
   "execution_count": 55,
   "id": "57d0a738",
   "metadata": {},
   "outputs": [],
   "source": [
    "import pyautogui as pgi\n",
    "import pyautogui"
   ]
  },
  {
   "cell_type": "code",
   "execution_count": 17,
   "id": "921987b1",
   "metadata": {},
   "outputs": [
    {
     "data": {
      "text/plain": [
       "Point(x=1413, y=1079)"
      ]
     },
     "execution_count": 17,
     "metadata": {},
     "output_type": "execute_result"
    }
   ],
   "source": [
    "pyautogui.position()"
   ]
  },
  {
   "cell_type": "code",
   "execution_count": 5,
   "id": "691fcfc3",
   "metadata": {},
   "outputs": [],
   "source": [
    "pyautogui.moveTo(982, 623)"
   ]
  },
  {
   "cell_type": "code",
   "execution_count": 151,
   "id": "f13369dc",
   "metadata": {},
   "outputs": [],
   "source": [
    "tdx_set_pannel_lock_k_num_checkbox = (982, 623)\n",
    "tdx_set_pannel_conform = (1161, 792)\n",
    "tdx_set_pannel_sec4 = (834, 303)\n",
    "\n",
    "tdx_call_set_pannel_hot_key = 'ctrl+d'\n",
    "\n",
    "tdx_kbar_right_mouse = (877, 169)\n",
    "tdx_daily_bar = (498, 34)\n",
    "\n",
    "tdx_menu_bar = (1551, 1068)\n",
    "tdx_delet_infor = (1336, 272)\n",
    "\n",
    "call_menu_bar=(1413, 1079)\n",
    "\n",
    "right_menu_item = 7\n",
    "end_date_item = 2\n"
   ]
  },
  {
   "cell_type": "code",
   "execution_count": 51,
   "id": "f406bc14",
   "metadata": {},
   "outputs": [],
   "source": [
    "pyautogui.moveTo(*call_menu_bar)"
   ]
  },
  {
   "cell_type": "code",
   "execution_count": 22,
   "id": "625daba0",
   "metadata": {},
   "outputs": [],
   "source": [
    "pyautogui.leftClick(*tdx_menu_bar)"
   ]
  },
  {
   "cell_type": "code",
   "execution_count": 25,
   "id": "92044515",
   "metadata": {},
   "outputs": [
    {
     "data": {
      "text/plain": [
       "Point(x=900, y=171)"
      ]
     },
     "execution_count": 25,
     "metadata": {},
     "output_type": "execute_result"
    }
   ],
   "source": [
    "pyautogui.position()"
   ]
  },
  {
   "cell_type": "code",
   "execution_count": 154,
   "id": "b930a315",
   "metadata": {},
   "outputs": [
    {
     "data": {
      "text/plain": [
       "Point(x=982, y=622)"
      ]
     },
     "execution_count": 154,
     "metadata": {},
     "output_type": "execute_result"
    }
   ],
   "source": [
    "pyautogui.position()"
   ]
  },
  {
   "cell_type": "code",
   "execution_count": 52,
   "id": "d917cd05",
   "metadata": {},
   "outputs": [],
   "source": [
    "pyautogui.leftClick(809, 820)\n",
    "pyautogui.typewrite(['up','up', 'up'])\n",
    "# pyautogui.keyUp('up')"
   ]
  },
  {
   "cell_type": "code",
   "execution_count": 54,
   "id": "1a1a1fa1",
   "metadata": {},
   "outputs": [],
   "source": [
    "im = pyautogui.screenshot('test_shot.png')"
   ]
  },
  {
   "cell_type": "code",
   "execution_count": 65,
   "id": "069edfd3",
   "metadata": {},
   "outputs": [],
   "source": [
    "pgi.moveTo(*call_menu_bar)\n",
    "pgi.leftClick(*tdx_menu_bar)\n",
    "\n",
    "import time\n",
    "time.sleep(2)\n",
    "\n",
    "pgi.press('enter')\n",
    "time.sleep(4)\n",
    "\n",
    "pgi.leftClick(*tdx_delet_infor)"
   ]
  },
  {
   "cell_type": "code",
   "execution_count": 68,
   "id": "8535e032",
   "metadata": {},
   "outputs": [],
   "source": [
    "import pygetwindow as gw"
   ]
  },
  {
   "cell_type": "code",
   "execution_count": 70,
   "id": "a7ff3f75",
   "metadata": {},
   "outputs": [
    {
     "data": {
      "text/plain": [
       "['',\n",
       " 'dummyLayeredWnd',\n",
       " '',\n",
       " '',\n",
       " 'pyautogui - Jupyter Notebook 和另外 6 个页面 - 个人 - Microsoft\\u200b Edge',\n",
       " 'visualize',\n",
       " 'Untitled-1 - codes_v0_5 - Visual Studio Code',\n",
       " '',\n",
       " '渤海化学(600800) 2022-11-16 星期三      左右方向键切换分时',\n",
       " '',\n",
       " '',\n",
       " '同花顺(v9.10.90) - A股技术分析',\n",
       " 'SOUI_DUMMY_WND',\n",
       " 'SOUI_DUMMY_WND',\n",
       " 'SOUI_DUMMY_WND',\n",
       " 'SOUI_DUMMY_WND',\n",
       " 'SOUI_DUMMY_WND',\n",
       " 'SOUI_DUMMY_WND',\n",
       " 'SOUI_DUMMY_WND',\n",
       " 'SOUI_DUMMY_WND',\n",
       " 'SOUI_DUMMY_WND',\n",
       " 'SOUI_DUMMY_WND',\n",
       " 'SOUI_DUMMY_WND',\n",
       " 'SOUI_DUMMY_WND',\n",
       " 'SOUI_DUMMY_WND',\n",
       " 'SOUI_DUMMY_WND',\n",
       " 'SOUI_DUMMY_WND',\n",
       " 'SOUI_DUMMY_WND',\n",
       " 'SOUI_DUMMY_WND',\n",
       " 'SOUI_DUMMY_WND',\n",
       " 'SOUI_DUMMY_WND',\n",
       " 'SOUI_DUMMY_WND',\n",
       " 'SOUI_DUMMY_WND',\n",
       " 'SOUI_DUMMY_WND',\n",
       " 'SOUI_DUMMY_WND',\n",
       " 'SOUI_DUMMY_WND',\n",
       " 'SOUI_DUMMY_WND',\n",
       " 'SOUI_DUMMY_WND',\n",
       " 'SOUI_DUMMY_WND',\n",
       " 'SOUI_DUMMY_WND',\n",
       " '通达信 时间 定位_百度搜索 - Google Chrome',\n",
       " '',\n",
       " 'hexin_UserEnum',\n",
       " '设置',\n",
       " '设置',\n",
       " '',\n",
       " '邮件',\n",
       " '收件箱 - Hotmail \\u200e- 邮件',\n",
       " 'dummyLayeredWnd',\n",
       " 'dummyLayeredWnd',\n",
       " 'dummyLayeredWnd',\n",
       " 'dummyLayeredWnd',\n",
       " 'dummyLayeredWnd',\n",
       " 'Microsoft Text Input Application',\n",
       " '',\n",
       " '',\n",
       " '',\n",
       " '',\n",
       " 'Typora',\n",
       " '',\n",
       " '富途牛牛',\n",
       " '通达信金融终端V7.622 - [分析图表-保龄宝]',\n",
       " 'Program Manager']"
      ]
     },
     "execution_count": 70,
     "metadata": {},
     "output_type": "execute_result"
    }
   ],
   "source": [
    "gw.getAllTitles()"
   ]
  },
  {
   "cell_type": "code",
   "execution_count": 107,
   "id": "97cefe6d",
   "metadata": {},
   "outputs": [],
   "source": [
    "tdx = gw.getWindowsWithTitle('通达信金融终端V7.622')[0]\n",
    "# tdx.maximize()\n",
    "tdx.restore()\n",
    "tdx.activate()\n",
    "tdx.maximize()\n",
    "# tdx.maximize()\n",
    "# time.sleep(0.1)\n",
    "# pgi.press('g')\n",
    "# pgi.press('q')\n",
    "# pgi.press('j')\n",
    "# pgi.press('t')\n",
    "# time.sleep(2)\n",
    "# pgi.press('esc')"
   ]
  },
  {
   "cell_type": "code",
   "execution_count": 212,
   "id": "2290984c",
   "metadata": {},
   "outputs": [],
   "source": [
    "delay = 0.2\n",
    "\n",
    "def open_tdx():\n",
    "    pyautogui.moveTo(*call_menu_bar)\n",
    "    pyautogui.leftClick(*tdx_menu_bar)\n",
    "    \n",
    "    import time\n",
    "    time.sleep(2)\n",
    "\n",
    "    pgi.press('enter')\n",
    "    time.sleep(4)\n",
    "\n",
    "    pgi.leftClick(*tdx_delet_infor)\n",
    "\n",
    "\n",
    "def get_tdx_window():\n",
    "    try:\n",
    "        tdx = gw.getWindowsWithTitle('通达信金融终端V7.622')[0]\n",
    "        # tdx.maximize()\n",
    "        tdx.restore()\n",
    "        tdx.activate()\n",
    "        tdx.maximize()\n",
    "        \n",
    "    except:\n",
    "        open_tdx()\n",
    "        \n",
    "\n",
    "def release_end_date_lock():\n",
    "    pgi.press('4')\n",
    "    pgi.press('9')\n",
    "    time.sleep(delay)\n",
    "    pgi.press('enter')\n",
    "\n",
    "\n",
    "def locate_to_date(id, end_date, bar_num=None):\n",
    "    def press_daily_bar():\n",
    "        pgi.leftClick(*tdx_daily_bar)\n",
    "        \n",
    "\n",
    "        pass\n",
    "    \n",
    "    def move_to_blank_and_right_click():\n",
    "        pgi.rightClick(*tdx_kbar_right_mouse)\n",
    "\n",
    "        pass\n",
    "    \n",
    "    def select_lock_end_date_and_set_date(end_date):\n",
    "#         pgi.rightClick(*tdx_kbar_right_mouse)\n",
    "\n",
    "#         time.sleep(0.2)\n",
    "#         pgi.press('down', right_menu_item)\n",
    "        \n",
    "#         time.sleep(0.2)\n",
    "#         pgi.press('right')\n",
    "        \n",
    "#         pgi.press('up', end_date_item)        \n",
    "#         pgi.keyDown('enter')\n",
    "        \n",
    "        pgi.press('4')\n",
    "        pgi.press('9')\n",
    "#         time.sleep(delay)\n",
    "#         pgi.press('enter')\n",
    "        pgi.press('enter')\n",
    "\n",
    "        time.sleep(delay)\n",
    "\n",
    "    \n",
    "        year = end_date['year']\n",
    "        month = end_date['month']\n",
    "        day = end_date['day']\n",
    "        \n",
    "        for y in year:\n",
    "            pgi.press(y)            \n",
    "        pgi.press('right')\n",
    "        \n",
    "        for m in month:\n",
    "            pgi.press(m)            \n",
    "        pgi.press('right')\n",
    "        \n",
    "        for d in day:\n",
    "            pgi.press(d)\n",
    "        pgi.press('enter')\n",
    "        \n",
    "        pass\n",
    "    \n",
    "    \n",
    "    def set_bar_num(bar_num):\n",
    "        pgi.hotkey('ctrl', 'd')\n",
    "        pgi.leftClick(*tdx_set_pannel_sec4)\n",
    "        time.sleep(1)\n",
    "        pgi.leftClick(*tdx_set_pannel_lock_k_num_checkbox)\n",
    "        time.sleep(delay)\n",
    "\n",
    "        pgi.press('tab')\n",
    "        \n",
    "        for b in bar_num:\n",
    "            pgi.press(b)\n",
    "        time.sleep(1)\n",
    "\n",
    "        pgi.leftClick(*tdx_set_pannel_conform)\n",
    "        \n",
    "#         pgi.press('enter')\n",
    "                \n",
    "    press_daily_bar()\n",
    "    select_lock_end_date_and_set_date(end_date)\n",
    "    time.sleep(delay)\n",
    "    set_bar_num(str(bar_num))\n",
    "    \n",
    "    for c in id:\n",
    "        pgi.press(c)\n",
    "        \n",
    "    time.sleep(delay)\n",
    "    pgi.press('enter')"
   ]
  },
  {
   "cell_type": "code",
   "execution_count": null,
   "id": "8d77fa00",
   "metadata": {},
   "outputs": [],
   "source": []
  },
  {
   "cell_type": "code",
   "execution_count": 215,
   "id": "26aa0f30",
   "metadata": {},
   "outputs": [],
   "source": [
    "get_tdx_window()\n",
    "time.sleep(1)\n",
    "id = 'gqjt'\n",
    "end_date = {'year':'2014', 'month':'03', 'day':'27'}\n",
    "locate_to_date(id, end_date, 60)\n",
    "# release_end_date_lock()\n"
   ]
  },
  {
   "cell_type": "code",
   "execution_count": 167,
   "id": "732772b6",
   "metadata": {},
   "outputs": [],
   "source": [
    "get_tdx_window()\n",
    "time.sleep(1)\n",
    "\n",
    "pgi.leftClick(*tdx_set_pannel_lock_k_num_checkbox)\n"
   ]
  },
  {
   "cell_type": "code",
   "execution_count": null,
   "id": "6fc09759",
   "metadata": {},
   "outputs": [],
   "source": []
  },
  {
   "cell_type": "code",
   "execution_count": null,
   "id": "1ee2ed3c",
   "metadata": {},
   "outputs": [],
   "source": []
  }
 ],
 "metadata": {
  "kernelspec": {
   "display_name": "Python 3 (ipykernel)",
   "language": "python",
   "name": "python3"
  },
  "language_info": {
   "codemirror_mode": {
    "name": "ipython",
    "version": 3
   },
   "file_extension": ".py",
   "mimetype": "text/x-python",
   "name": "python",
   "nbconvert_exporter": "python",
   "pygments_lexer": "ipython3",
   "version": "3.10.10"
  }
 },
 "nbformat": 4,
 "nbformat_minor": 5
}
